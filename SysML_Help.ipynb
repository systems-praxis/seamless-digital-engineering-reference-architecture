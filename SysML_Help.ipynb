{
 "cells": [
  {
   "cell_type": "markdown",
   "id": "86e7ae76-0147-432a-a9ac-0dbf8eceb76b",
   "metadata": {},
   "source": [
    "> Unfortunately, we currently have limited documentation on the \"magic commands\" available for the Jupyter deployment. The current list of commands is:\n",
    "> \n",
    "> - `%export`\n",
    "> - `%list`\n",
    "> - `%publish`\n",
    "> - `%show`\n",
    "> - `%view`\n",
    "> - `%viz`\n",
    "> \n",
    "> You can get basic help information on any command by using the `-h` option with not other arguments, e.g., `%viz -h`.\n",
    ">\n",
    "> Ed"
   ]
  },
  {
   "cell_type": "code",
   "execution_count": 1,
   "id": "75b3ec95-4b24-4f10-9c89-2db6f1291bd5",
   "metadata": {},
   "outputs": [
    {
     "data": {
      "text/plain": [
       "Usage: %export <NAME>\n",
       "\n",
       "Save a file containing the complete JSON representation of the abstract syntax tree rooted in <NAME>.\n",
       "<NAME> must be fully qualified.\n"
      ]
     },
     "execution_count": 1,
     "metadata": {},
     "output_type": "execute_result"
    }
   ],
   "source": [
    "%export -h"
   ]
  },
  {
   "cell_type": "code",
   "execution_count": 2,
   "id": "0edb38e0-5d57-49e0-88ba-e70019c4a6e2",
   "metadata": {},
   "outputs": [
    {
     "data": {
      "text/plain": [
       "Usage: %list [<QUERY>]\n",
       "\n",
       "If <QUERY> is not given, then list all loaded library packages.\n",
       "If <QUERY> is given, list all elements as specified by the <QUERY>.\n",
       "\n",
       "<QUERY> must have a form such that \"import <QUERY>;\" would be a legal import, that is, one of the following:\n",
       "    <NAME>\t\telement given by the fully qualified <NAME>\n",
       "    <NAME>::*\t\tall members of the namespace <NAME>\n",
       "    <NAME>::**\t\tall members of the namespace <NAME> and, recursively, members of owned namespaces.\n",
       "The last two forms may be optionally followed by a filter expression in square brackets.\n"
      ]
     },
     "execution_count": 2,
     "metadata": {},
     "output_type": "execute_result"
    }
   ],
   "source": [
    "%list -h"
   ]
  },
  {
   "cell_type": "code",
   "execution_count": 3,
   "id": "841ebd2d-05e5-43bf-ad0b-e57b25ed0fae",
   "metadata": {},
   "outputs": [
    {
     "data": {
      "text/plain": [
       "Usage: %publish <NAME>\n",
       "\n",
       "Publish the model elements rooted in <NAME> to the repository. <NAME> must be fully qualified.\n"
      ]
     },
     "execution_count": 3,
     "metadata": {},
     "output_type": "execute_result"
    }
   ],
   "source": [
    "%publish -h"
   ]
  },
  {
   "cell_type": "code",
   "execution_count": 4,
   "id": "2e09492c-7a64-4df4-b4d2-00c100287261",
   "metadata": {},
   "outputs": [
    {
     "data": {
      "text/plain": [
       "Usage: %show [--style=<STYLE>] <NAME>\n",
       "\n",
       "Print the abstract syntax tree rooted in <NAME>. <NAME> must be fully qualified.\n",
       "\n",
       "<STYLE> is also case insensitive. The possible style names are:\n",
       "   TREE\t\tHierarchically indented representation with only identifying information\n",
       "   JSON\t\tComplete JSON representation of the tree\n"
      ]
     },
     "execution_count": 4,
     "metadata": {},
     "output_type": "execute_result"
    }
   ],
   "source": [
    "%show -h"
   ]
  },
  {
   "cell_type": "code",
   "execution_count": 5,
   "id": "e512109c-4981-487b-8e36-279d5079ad0b",
   "metadata": {},
   "outputs": [
    {
     "data": {
      "text/plain": [
       "Usage: %view [--render=<RENDERING>] [--style=<STYLE>...] <NAME>\n",
       "\n",
       "Render the view specified by the view usage <NAME>. <NAME> must be fully qualified.\n",
       "If the view usage has a rendering, this overrides the rendering given in the render option.\n",
       "\n",
       "<RENDERING> is case insensitive and possible candidates are:\n",
       "   DEFAULT\t\tAutomatically choose an appropriate view from the given model element names\n",
       "   TREE\t\t\tShow a tree-structural view, like a Block Definition Diagram (BDD)\n",
       "   INTERCONNECTION\tShow an interconnection view, like an Internal Block Diagram (IBD)\n",
       "   STATE\t\tShow state machines\n",
       "   ACTION\t\tShow actions like an activity diagram\n",
       "   MIXED\t\tShow multiple views\n",
       "\n",
       "<STYLE> is also case insensitive. Multiple --style options are allowed.  The possible style names are:\n",
       "  DEFAULT\t\tStandard B&&W\n",
       "  STDCOLOR\t\tStandard style with colors\n",
       "  PLANTUML\t\tPlantUML Style\n",
       "  TB\t\t\tTop-to-Bottom orientation\n",
       "  LR\t\t\tLeft-to-Right orientation\n",
       "  POLYLINE\t\tPolyline style\n",
       "  ORTHOLINE\t\tOrthogonal line style\n",
       "  SHOWLIB\t\tShow elements of the standard libraries\n",
       "  SHOWINHERITED\t\tShow inherited members\n",
       "  COMPMOST\t\tShow as many memberships in a compartment as possible\n",
       "  COMPTREE\t\tShow nested ports in a compartment\n",
       "  SHOWIMPORTED\t\tShow imported elements\n",
       "  HIDEMETADATA\t\tHide metadata\n",
       "  SHOWMETACLASS\t\tShow metaclasses of metaobjects\n",
       "  EVAL\t\tEvaluate expressions\n",
       "  NODEMULTIPLICITY\t\tShow multiplicities in nodes\n",
       "  EDGEMULTIPLICITY\t\tShow multiplicities on edges\n",
       "  IMPLICITMULTIPLICITY\t\tShow implicit multiplicities\n"
      ]
     },
     "execution_count": 5,
     "metadata": {},
     "output_type": "execute_result"
    }
   ],
   "source": [
    "%view -h"
   ]
  },
  {
   "cell_type": "code",
   "execution_count": 6,
   "id": "ac9eb5d2-8049-4b37-be72-219062f7cdf7",
   "metadata": {},
   "outputs": [
    {
     "data": {
      "text/plain": [
       "Usage: %viz [--view=<VIEW>] [--style=<STYLE>...] <NAME> [<NAME>...]\n",
       "\n",
       "Visualize model elements of <NAME>(s). <NAME>s must be fully qualified.\n",
       "\n",
       "<VIEW> is case insensitive and possible candidates are:\n",
       "   DEFAULT\t\tAutomatically choose an appropriate view from the given model element names\n",
       "   TREE\t\t\tShow a tree-structural view, like a Block Definition Diagram (BDD)\n",
       "   INTERCONNECTION\tShow an interconnection view, like an Internal Block Diagram (IBD)\n",
       "   STATE\t\tShow state machines\n",
       "   ACTION\t\tShow actions like an activity diagram\n",
       "   SEQUENCE\t\tShow events and messages in a sequence diagram\n",
       "   MIXED\t\tShow multiple views\n",
       "\n",
       "<STYLE> is also case insensitive. Multiple --style options are allowed.  The possible style names are:\n",
       "  DEFAULT\t\tStandard B&&W\n",
       "  STDCOLOR\t\tStandard style with colors\n",
       "  PLANTUML\t\tPlantUML Style\n",
       "  TB\t\t\tTop-to-Bottom orientation\n",
       "  LR\t\t\tLeft-to-Right orientation\n",
       "  POLYLINE\t\tPolyline style\n",
       "  ORTHOLINE\t\tOrthogonal line style\n",
       "  SHOWLIB\t\tShow elements of the standard libraries\n",
       "  SHOWINHERITED\t\tShow inherited members\n",
       "  COMPMOST\t\tShow as many memberships in a compartment as possible\n",
       "  COMPTREE\t\tShow nested ports in a compartment\n",
       "  SHOWIMPORTED\t\tShow imported elements\n",
       "  HIDEMETADATA\t\tHide metadata\n",
       "  SHOWMETACLASS\t\tShow metaclasses of metaobjects\n",
       "  EVAL\t\tEvaluate expressions\n",
       "  NODEMULTIPLICITY\t\tShow multiplicities in nodes\n",
       "  EDGEMULTIPLICITY\t\tShow multiplicities on edges\n",
       "  IMPLICITMULTIPLICITY\t\tShow implicit multiplicities\n",
       "\n",
       "Example:\n",
       "\t%viz --view Tree --style LR --style ortholine Pkg1::PartDef Pkg1::Pkg2::partUsage\n",
       "should visualize Pkg1::PartDef and Pkg1::Pkg2::partUsage with a tree view ordered in the left-to-right direction with orthogonal lines.\n"
      ]
     },
     "execution_count": 6,
     "metadata": {},
     "output_type": "execute_result"
    }
   ],
   "source": [
    "%viz -h"
   ]
  },
  {
   "cell_type": "code",
   "execution_count": null,
   "id": "a33f1f4f-6d85-49ed-aaf2-8c84ad687714",
   "metadata": {},
   "outputs": [],
   "source": []
  }
 ],
 "metadata": {
  "kernelspec": {
   "display_name": "SysML",
   "language": "sysml",
   "name": "sysml"
  },
  "language_info": {
   "codemirror_mode": "sysml",
   "file_extension": ".sysml",
   "mimetype": "text/x-sysml",
   "name": "SysML",
   "pygments_lexer": "java",
   "version": "1.0.0"
  }
 },
 "nbformat": 4,
 "nbformat_minor": 5
}
